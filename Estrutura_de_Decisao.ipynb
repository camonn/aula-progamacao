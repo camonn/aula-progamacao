{
  "nbformat": 4,
  "nbformat_minor": 0,
  "metadata": {
    "colab": {
      "provenance": [],
      "authorship_tag": "ABX9TyNp2YVigEfXE+lULT3pkQyw",
      "include_colab_link": true
    },
    "kernelspec": {
      "name": "python3",
      "display_name": "Python 3"
    },
    "language_info": {
      "name": "python"
    }
  },
  "cells": [
    {
      "cell_type": "markdown",
      "metadata": {
        "id": "view-in-github",
        "colab_type": "text"
      },
      "source": [
        "<a href=\"https://colab.research.google.com/github/CamonnRitse/aula-progamacao/blob/main/Estrutura_de_Decisao.ipynb\" target=\"_parent\"><img src=\"https://colab.research.google.com/assets/colab-badge.svg\" alt=\"Open In Colab\"/></a>"
      ]
    },
    {
      "cell_type": "code",
      "execution_count": null,
      "metadata": {
        "id": "VRGNjnoPkyTS",
        "colab": {
          "base_uri": "https://localhost:8080/"
        },
        "outputId": "933c16ef-9ba7-40ae-aa7d-93c8cad6f0b7"
      },
      "outputs": [
        {
          "output_type": "stream",
          "name": "stdout",
          "text": [
            "132\n",
            "48\n",
            "3780\n",
            "2.142857142857143\n",
            "6\n"
          ]
        }
      ],
      "source": [
        "a = 90 \n",
        "b = 42\n",
        "\n",
        "print(a+b)\n",
        "print(a-b)\n",
        "print(a*b)\n",
        "print(a/b)\n",
        "print(a%b)\n"
      ]
    },
    {
      "cell_type": "code",
      "source": [
        "idade = 22 \n",
        "print('meu nome é camonn, minhas idade é: ,idade')"
      ],
      "metadata": {
        "colab": {
          "base_uri": "https://localhost:8080/"
        },
        "id": "WGp1V6uwlUVl",
        "outputId": "a7e4b8d5-36d2-49d0-a80f-245e1ab4c44b"
      },
      "execution_count": null,
      "outputs": [
        {
          "output_type": "stream",
          "name": "stdout",
          "text": [
            "meu nome é camonn, minhas idade é: ,idade\n"
          ]
        }
      ]
    },
    {
      "cell_type": "code",
      "source": [
        "nome = input('digite seu nome: ')\n",
        "print('olá, '+nome)"
      ],
      "metadata": {
        "colab": {
          "base_uri": "https://localhost:8080/"
        },
        "id": "X6RautOBnC-y",
        "outputId": "1b0becf1-f971-425b-8a78-7052e0f359eb"
      },
      "execution_count": null,
      "outputs": [
        {
          "output_type": "stream",
          "name": "stdout",
          "text": [
            "digite seu nome: camonn\n",
            "olá, camonn\n"
          ]
        }
      ]
    },
    {
      "cell_type": "code",
      "source": [
        "#codigo para dizer a idade da pessoa\n",
        "anoNascim = input('digite o ano de nascimento!')\n",
        "print('sua idade é: ',2023-int(anoNascim))\n"
      ],
      "metadata": {
        "id": "cnGNN3Bhnxlv",
        "colab": {
          "base_uri": "https://localhost:8080/"
        },
        "outputId": "c198c3ad-7530-4a53-c684-7d5ee21b2106"
      },
      "execution_count": null,
      "outputs": [
        {
          "output_type": "stream",
          "name": "stdout",
          "text": [
            "digite o ano de nascimento!2000\n",
            "sua idade é:  23\n"
          ]
        }
      ]
    },
    {
      "cell_type": "code",
      "source": [
        "#Solicita a altura e o peso de alguem, e retorna o IMC\n",
        "#IMC = peso / altura**2\n",
        "\n",
        "peso = float(input('digite o peso! '))\n",
        "altura = float(input('digite a altura!'))\n",
        "imc = peso/altura**2\n",
        "print('O IMC é:', imc)\n"
      ],
      "metadata": {
        "colab": {
          "base_uri": "https://localhost:8080/"
        },
        "id": "jj_GKv1movVW",
        "outputId": "c7df6203-4ba8-4ae6-f39c-c69dd3c478fd"
      },
      "execution_count": null,
      "outputs": [
        {
          "output_type": "stream",
          "name": "stdout",
          "text": [
            "digite o peso! 86\n",
            "digite a altura!1.87\n",
            "O IMC é: 24.59321112985787\n"
          ]
        }
      ]
    },
    {
      "cell_type": "code",
      "source": [
        "#Verificar se um numero é par\n",
        "num = int(input('digite um numero'))\n",
        "if(num%2 == 0):\n",
        "  print('O numero é par')\n",
        "else:\n",
        "  print('O numero é impar')\n",
        "  "
      ],
      "metadata": {
        "colab": {
          "base_uri": "https://localhost:8080/"
        },
        "id": "C0iS1WSMuQi2",
        "outputId": "9fe55464-9fe7-442d-9d9d-bbda314b03e0"
      },
      "execution_count": null,
      "outputs": [
        {
          "output_type": "stream",
          "name": "stdout",
          "text": [
            "digite um numero101\n",
            "O numero é impar\n"
          ]
        }
      ]
    },
    {
      "cell_type": "code",
      "source": [
        "#Em um campeonato de MMA, tem tres categorias por peso\n",
        "#galo até 60kg\n",
        "#medio até 80kg\n",
        "#meio pesado até 90 kg\n",
        "#pesado mais de 90\n",
        "peso = float(input('digite o peso do atleta'))\n",
        "if(peso <= 70):\n",
        "  print('galo')\n",
        "elif(peso <=80):\n",
        "  print('medio')\n",
        "elif(peso <=90):\n",
        "  print('meio pesado')\n",
        "else:\n",
        "  print('pesado')\n"
      ],
      "metadata": {
        "colab": {
          "base_uri": "https://localhost:8080/"
        },
        "id": "_OI-iOC6yUF7",
        "outputId": "8e07a925-5a5f-4820-ffe3-d60f57c3abac"
      },
      "execution_count": null,
      "outputs": [
        {
          "output_type": "stream",
          "name": "stdout",
          "text": [
            "digite o peso do atleta 100\n",
            "pesado\n"
          ]
        }
      ]
    },
    {
      "cell_type": "code",
      "source": [
        "#verificações logicas\n",
        "a = 45\n",
        "b = 33\n",
        "print(a > b)\n",
        "print(a < b)\n",
        "print(a == b)\n",
        "print(a != b)"
      ],
      "metadata": {
        "colab": {
          "base_uri": "https://localhost:8080/"
        },
        "id": "KusdC48luzAV",
        "outputId": "a6fd32c9-9a5c-43f1-93b5-5cfcb792e874"
      },
      "execution_count": null,
      "outputs": [
        {
          "output_type": "stream",
          "name": "stdout",
          "text": [
            "True\n",
            "False\n",
            "False\n",
            "True\n"
          ]
        }
      ]
    },
    {
      "cell_type": "code",
      "source": [
        "#verificador de IMC\n",
        "peso = float(input('digite seu peso'))\n",
        "altura = float(input('digite sua altura'))\n",
        "imc = peso/altura**2\n",
        "\n",
        "if(imc <18.5):\n",
        "  print('abaixo do peso normal')\n",
        "elif(imc <24.9):\n",
        "  print('peso normal')\n",
        "elif(imc <29.9): \n",
        "  print('excesso de peso')\n",
        "elif(imc <34.9):\n",
        "  print('obesidade classe |')\n",
        "elif(imc <39.9):\n",
        "  print('obesidade classe ||')\n",
        "else:\n",
        " print('obesidade classe |||')\n",
        " \n"
      ],
      "metadata": {
        "colab": {
          "base_uri": "https://localhost:8080/"
        },
        "id": "tejKZiE91IrE",
        "outputId": "580e4cee-70c6-4b46-b136-8ce34165301e"
      },
      "execution_count": null,
      "outputs": [
        {
          "output_type": "stream",
          "name": "stdout",
          "text": [
            "digite seu peso 86\n",
            "digite sua altura1.85\n",
            "excesso de peso\n"
          ]
        }
      ]
    },
    {
      "cell_type": "code",
      "source": [
        "nome = input('digite seu nome: ')\n",
        " print('olá, '+nome)\n",
        "anoNascim = input('digite seu ano de nascimento')\n",
        " print('sua idade é: '), 2023-int(anoNascim))"
      ],
      "metadata": {
        "colab": {
          "base_uri": "https://localhost:8080/",
          "height": 130
        },
        "id": "g4BMZnpeqJXJ",
        "outputId": "c078b0a1-7a41-495c-8431-1ca0c3b1b7a6"
      },
      "execution_count": null,
      "outputs": [
        {
          "output_type": "error",
          "ename": "IndentationError",
          "evalue": "ignored",
          "traceback": [
            "\u001b[0;36m  File \u001b[0;32m\"<ipython-input-4-e2948b8774f5>\"\u001b[0;36m, line \u001b[0;32m2\u001b[0m\n\u001b[0;31m    print('olá,'+nome)\u001b[0m\n\u001b[0m    ^\u001b[0m\n\u001b[0;31mIndentationError\u001b[0m\u001b[0;31m:\u001b[0m unexpected indent\n"
          ]
        }
      ]
    },
    {
      "cell_type": "code",
      "source": [
        "#tipos booleanos\n",
        "print(100 == (50+50))\n",
        "print(100 >= (50+50))\n",
        "print"
      ],
      "metadata": {
        "id": "4qf8I7RipGFn"
      },
      "execution_count": null,
      "outputs": []
    },
    {
      "cell_type": "code",
      "source": [
        "#Se for do sexo feminino \"F\", e tiver 55 anos ou mais, pode se aposentar\n",
        "#se for do sexo masculino \"M\", só se aposenta com 60 ou mais.\n",
        "\n",
        "sexo = 'M' and 'F'\n",
        "\n",
        "sexo =  float(input('digite seu genero'))\n",
        "idade = float(input('digite sua idade'))\n",
        "if(sexo == 'F' and idade >=55):\n",
        " print('pode se aposentar')\n",
        "elif(sexo == 'M' and idade >=60):\n",
        "  print('pode se aposentar')\n",
        "else:\n",
        "  print('ainda não pode se aposentar')"
      ],
      "metadata": {
        "id": "RstXtjdLqiop",
        "colab": {
          "base_uri": "https://localhost:8080/",
          "height": 252
        },
        "outputId": "91619ed7-5613-468a-fb25-cef1d5fc7ff1"
      },
      "execution_count": null,
      "outputs": [
        {
          "name": "stdout",
          "output_type": "stream",
          "text": [
            "digite seu generoM\n"
          ]
        },
        {
          "output_type": "error",
          "ename": "ValueError",
          "evalue": "ignored",
          "traceback": [
            "\u001b[0;31m---------------------------------------------------------------------------\u001b[0m",
            "\u001b[0;31mValueError\u001b[0m                                Traceback (most recent call last)",
            "\u001b[0;32m<ipython-input-10-d536f7b766ec>\u001b[0m in \u001b[0;36m<cell line: 6>\u001b[0;34m()\u001b[0m\n\u001b[1;32m      4\u001b[0m \u001b[0msexo\u001b[0m \u001b[0;34m=\u001b[0m \u001b[0;34m'M'\u001b[0m \u001b[0;32mand\u001b[0m \u001b[0;34m'F'\u001b[0m\u001b[0;34m\u001b[0m\u001b[0;34m\u001b[0m\u001b[0m\n\u001b[1;32m      5\u001b[0m \u001b[0;34m\u001b[0m\u001b[0m\n\u001b[0;32m----> 6\u001b[0;31m \u001b[0msexo\u001b[0m \u001b[0;34m=\u001b[0m  \u001b[0mfloat\u001b[0m\u001b[0;34m(\u001b[0m\u001b[0minput\u001b[0m\u001b[0;34m(\u001b[0m\u001b[0;34m'digite seu genero'\u001b[0m\u001b[0;34m)\u001b[0m\u001b[0;34m)\u001b[0m\u001b[0;34m\u001b[0m\u001b[0;34m\u001b[0m\u001b[0m\n\u001b[0m\u001b[1;32m      7\u001b[0m \u001b[0midade\u001b[0m \u001b[0;34m=\u001b[0m \u001b[0mfloat\u001b[0m\u001b[0;34m(\u001b[0m\u001b[0minput\u001b[0m\u001b[0;34m(\u001b[0m\u001b[0;34m'digite sua idade'\u001b[0m\u001b[0;34m)\u001b[0m\u001b[0;34m)\u001b[0m\u001b[0;34m\u001b[0m\u001b[0;34m\u001b[0m\u001b[0m\n\u001b[1;32m      8\u001b[0m \u001b[0;32mif\u001b[0m\u001b[0;34m(\u001b[0m\u001b[0msexo\u001b[0m \u001b[0;34m==\u001b[0m \u001b[0;34m'F'\u001b[0m \u001b[0;32mand\u001b[0m \u001b[0midade\u001b[0m \u001b[0;34m>=\u001b[0m\u001b[0;36m55\u001b[0m\u001b[0;34m)\u001b[0m\u001b[0;34m:\u001b[0m\u001b[0;34m\u001b[0m\u001b[0;34m\u001b[0m\u001b[0m\n",
            "\u001b[0;31mValueError\u001b[0m: could not convert string to float: 'M'"
          ]
        }
      ]
    },
    {
      "cell_type": "code",
      "source": [
        "#Se for do sexo feminino \"F\", e tiver 55 anos ou mais, pode se aposentar\n",
        "#se for do sexo masculino \"M\", só se aposenta com 60 ou mais.\n",
        "\n",
        "#Versao ||\n",
        "sexo = 'M'\n",
        "idade = 68\n",
        "if((sexo == 'F' and idade >=55) or (sexo == 'M' and idade >=60)):\n",
        " print('pode se aposentar')\n",
        "else:\n",
        "  print('ainda não pode se aposentar')"
      ],
      "metadata": {
        "colab": {
          "base_uri": "https://localhost:8080/"
        },
        "id": "f1u0TTK0tAgE",
        "outputId": "d60ac2de-e502-45a1-b007-d2f1e120a815"
      },
      "execution_count": null,
      "outputs": [
        {
          "output_type": "stream",
          "name": "stdout",
          "text": [
            "pode se aposentar\n"
          ]
        }
      ]
    },
    {
      "cell_type": "code",
      "source": [
        "#Versão |||\n",
        "sexo = input('insira o sexo, m (masculino) ou f (feminino): ')\n",
        "idade = int(input('insira a idade: '))\n",
        "if((sexo == 'f' and idade >=55) or (sexo == 'm' and idade >=60)):\n",
        "  print('pode se aposentar')\n",
        "else:\n",
        "  print('ainda não pode')"
      ],
      "metadata": {
        "colab": {
          "base_uri": "https://localhost:8080/"
        },
        "id": "Vu-y2Gnou_3d",
        "outputId": "34c3eb3d-3a89-4476-8fdb-1693900994ee"
      },
      "execution_count": null,
      "outputs": [
        {
          "output_type": "stream",
          "name": "stdout",
          "text": [
            "insira o sexo, m (masculino) ou f (feminino): f\n",
            "insira a idade: 55\n",
            "pode se aposentar\n"
          ]
        }
      ]
    },
    {
      "cell_type": "code",
      "source": [
        "#solicite tres numeros A, B e C.\n",
        "#imprima na tela se A+B é menor que C\n",
        "\n",
        "a = int(input('Digite o primeiro num: '))\n",
        "b = int(input('Digite o primeiro num: '))\n",
        "c = int(input('Digite o primeiro num: '))\n",
        "\n",
        "if(a+b < c):\n",
        "  print('é menor')\n",
        "else:\n",
        "  print('nao é maior')"
      ],
      "metadata": {
        "colab": {
          "base_uri": "https://localhost:8080/"
        },
        "id": "DFrefZoYv5cd",
        "outputId": "daf19620-c096-4fbe-93f9-4f6c044af302"
      },
      "execution_count": null,
      "outputs": [
        {
          "output_type": "stream",
          "name": "stdout",
          "text": [
            "Digite o primeiro num: 5\n",
            "Digite o primeiro num: 2\n",
            "Digite o primeiro num: 3\n",
            "nao é maior\n"
          ]
        }
      ]
    },
    {
      "cell_type": "code",
      "source": [
        "#Escreva um algoritimo que recebe 2 valores interio\n",
        "#e escreva na tela qual é o maior.\n",
        "\n",
        "A = int(input('Digite o primeiro num: '))\n",
        "B = int(input('Digite o primeiro num: '))\n",
        "\n",
        "if(A > B):\n",
        "  print('Primeiro numero é maior')\n",
        "elif(A < B):\n",
        " print('segundo numero é maior')\n",
        "else:\n",
        "  print('os numeros sao iguais')\n"
      ],
      "metadata": {
        "colab": {
          "base_uri": "https://localhost:8080/"
        },
        "id": "nvcTfuVfyYia",
        "outputId": "bf53c361-ebbe-4c42-8140-838279616aa6"
      },
      "execution_count": null,
      "outputs": [
        {
          "output_type": "stream",
          "name": "stdout",
          "text": [
            "Digite o primeiro num: 10\n",
            "Digite o primeiro num: 10\n",
            "os numeros sao iguais\n"
          ]
        }
      ]
    },
    {
      "cell_type": "code",
      "source": [
        "#listas sao estruturas de dados formadasd por eementos de um mesmo tipo\n",
        "numeros = 3, 9, 16, 21, 27, 32\n",
        "numeros "
      ],
      "metadata": {
        "colab": {
          "base_uri": "https://localhost:8080/"
        },
        "id": "reLTnhDs6-QD",
        "outputId": "ff7f030f-8530-4bd2-d9d7-fcd6c84e39d7"
      },
      "execution_count": null,
      "outputs": [
        {
          "output_type": "execute_result",
          "data": {
            "text/plain": [
              "(3, 9, 16, 21, 27, 32)"
            ]
          },
          "metadata": {},
          "execution_count": 29
        }
      ]
    },
    {
      "cell_type": "code",
      "source": [
        "#tamanho de uma lista\n",
        "len(numeros)"
      ],
      "metadata": {
        "colab": {
          "base_uri": "https://localhost:8080/"
        },
        "id": "NHyq4mHH7eWa",
        "outputId": "3c3cb0e3-63c9-472c-cbca-fa2b44440ecd"
      },
      "execution_count": null,
      "outputs": [
        {
          "output_type": "execute_result",
          "data": {
            "text/plain": [
              "6"
            ]
          },
          "metadata": {},
          "execution_count": 30
        }
      ]
    },
    {
      "cell_type": "code",
      "source": [
        "#indices 3, 9, 16, 21,\n",
        "print(numeros[0])\n",
        "print(numeros[1])\n",
        "print(numeros[2])\n",
        "print(numeros[3])"
      ],
      "metadata": {
        "colab": {
          "base_uri": "https://localhost:8080/"
        },
        "id": "XOVk_I-H8RGb",
        "outputId": "6e45f08b-1070-4200-cfb8-bd1c994fbf80"
      },
      "execution_count": null,
      "outputs": [
        {
          "output_type": "stream",
          "name": "stdout",
          "text": [
            "3\n",
            "9\n",
            "16\n",
            "21\n"
          ]
        }
      ]
    },
    {
      "cell_type": "code",
      "source": [
        "#lista de outros tipos\n",
        "alunos = ['mariana', 'luiz', 'higor', 'enzo', 'valentina' ]\n",
        "alunos"
      ],
      "metadata": {
        "colab": {
          "base_uri": "https://localhost:8080/"
        },
        "id": "R1ua9C5Q-Typ",
        "outputId": "e50d63b2-824a-4b2d-8cf5-3b70df5fda52"
      },
      "execution_count": null,
      "outputs": [
        {
          "output_type": "execute_result",
          "data": {
            "text/plain": [
              "['mariana', 'luiz', 'higor', 'enzo', 'valentina']"
            ]
          },
          "metadata": {},
          "execution_count": 41
        }
      ]
    },
    {
      "cell_type": "code",
      "source": [
        "#alterar o valores de itens de lista\n",
        "alunos[3] = 'ivan'\n",
        "alunos "
      ],
      "metadata": {
        "colab": {
          "base_uri": "https://localhost:8080/"
        },
        "id": "JFwvMMIl-s7P",
        "outputId": "1b081faa-8199-4d2a-a148-b3af9feb425a"
      },
      "execution_count": null,
      "outputs": [
        {
          "output_type": "execute_result",
          "data": {
            "text/plain": [
              "['mariana', 'luiz', 'higor', 'ivan', 'valentina']"
            ]
          },
          "metadata": {},
          "execution_count": 42
        }
      ]
    },
    {
      "cell_type": "code",
      "source": [
        "#inserir valores na lista .append()\n",
        "alunos.append('Adebal')\n",
        "alunos "
      ],
      "metadata": {
        "colab": {
          "base_uri": "https://localhost:8080/"
        },
        "id": "TKVcrkLX_F3h",
        "outputId": "66d0ebaf-3b09-40e3-84ea-e91df5e47245"
      },
      "execution_count": null,
      "outputs": [
        {
          "output_type": "execute_result",
          "data": {
            "text/plain": [
              "['mariana', 'luiz', 'higor', 'ivan', 'valentina', 'Adebal']"
            ]
          },
          "metadata": {},
          "execution_count": 43
        }
      ]
    },
    {
      "cell_type": "code",
      "source": [
        "alunos.append(input('digite o nome: '))\n",
        "\n",
        "alunos"
      ],
      "metadata": {
        "colab": {
          "base_uri": "https://localhost:8080/"
        },
        "id": "VpHiP22l_lXo",
        "outputId": "d76fe1a4-aa5a-4a20-d96f-579326a0ce4a"
      },
      "execution_count": null,
      "outputs": [
        {
          "name": "stdout",
          "output_type": "stream",
          "text": [
            "digite o nome: moacir\n"
          ]
        },
        {
          "output_type": "execute_result",
          "data": {
            "text/plain": [
              "['mariana', 'luiz', 'higor', 'ivan', 'valentina', 'Adebal', 'Camonn', 'moacir']"
            ]
          },
          "metadata": {},
          "execution_count": 45
        }
      ]
    },
    {
      "cell_type": "code",
      "source": [
        "\n",
        "alunos.pop()\n",
        "alunos"
      ],
      "metadata": {
        "id": "94EWpIxCAZRf"
      },
      "execution_count": null,
      "outputs": []
    },
    {
      "cell_type": "code",
      "source": [
        "#descobrir se ha um valor determinado na lista, exibir sua posição\n",
        "if 'camonn' in alunos:\n",
        "  print('tem sim')\n",
        "else:\n",
        "  print('tem nao')"
      ],
      "metadata": {
        "colab": {
          "base_uri": "https://localhost:8080/"
        },
        "id": "JJ9QBvy8BMHH",
        "outputId": "686ab6f5-8e55-4420-c81f-87a1985659af"
      },
      "execution_count": null,
      "outputs": [
        {
          "output_type": "stream",
          "name": "stdout",
          "text": [
            "tem nao\n"
          ]
        }
      ]
    },
    {
      "cell_type": "code",
      "source": [
        "#criar uma lista com numeros de 1 a 15\n",
        "numeros = []\n",
        "for num in range(15):\n",
        "  numeros.append(num)\n",
        "\n",
        "numeros"
      ],
      "metadata": {
        "colab": {
          "base_uri": "https://localhost:8080/"
        },
        "id": "TsjIrqsWtkzI",
        "outputId": "6062fb15-078c-4707-e9b7-13f10d3788ce"
      },
      "execution_count": 6,
      "outputs": [
        {
          "output_type": "execute_result",
          "data": {
            "text/plain": [
              "[0, 1, 2, 3, 4, 5, 6, 7, 8, 9, 10, 11, 12, 13, 14]"
            ]
          },
          "metadata": {},
          "execution_count": 6
        }
      ]
    },
    {
      "cell_type": "code",
      "source": [
        "#para usar a biblioteca random, é preciso importa-la \n",
        "import random\n",
        "\n",
        "#criar uma lista com tamanho aleatorio (entre 0 e 50)\n",
        "nums2 = []\n",
        "for num in range(random.randrange(0, 50)):\n",
        "  nums2.append(num)\n",
        "\n",
        "nums2"
      ],
      "metadata": {
        "colab": {
          "base_uri": "https://localhost:8080/"
        },
        "id": "NSeBr86ywTTF",
        "outputId": "68b0945a-11fa-4516-bfc5-4fe0d9c69552"
      },
      "execution_count": 34,
      "outputs": [
        {
          "output_type": "execute_result",
          "data": {
            "text/plain": [
              "[0]"
            ]
          },
          "metadata": {},
          "execution_count": 34
        }
      ]
    },
    {
      "cell_type": "code",
      "source": [
        "#(parantesis) descobrir se um numero é par \n",
        "a = int(input('digite um numero! '))\n",
        "if a % 2 == 0:\n",
        "  print('é par')\n",
        "else:\n",
        "  print('é impar')\n",
        "  "
      ],
      "metadata": {
        "colab": {
          "base_uri": "https://localhost:8080/"
        },
        "id": "bZpuauLRzYDw",
        "outputId": "51588c27-dc04-47cb-9c2d-8cc875eae486"
      },
      "execution_count": 35,
      "outputs": [
        {
          "output_type": "stream",
          "name": "stdout",
          "text": [
            "digite um numero! 19\n",
            "é impar\n"
          ]
        }
      ]
    },
    {
      "cell_type": "code",
      "source": [
        "for numero in range(51):\n",
        "  if numero % 2 == 0:\n",
        "    print(numero)"
      ],
      "metadata": {
        "colab": {
          "base_uri": "https://localhost:8080/"
        },
        "id": "fv4_SJf5112w",
        "outputId": "c6829ac4-b93c-4c3a-f4f0-dec93c927cc8"
      },
      "execution_count": 37,
      "outputs": [
        {
          "output_type": "stream",
          "name": "stdout",
          "text": [
            "0\n",
            "2\n",
            "4\n",
            "6\n",
            "8\n",
            "10\n",
            "12\n",
            "14\n",
            "16\n",
            "18\n",
            "20\n",
            "22\n",
            "24\n",
            "26\n",
            "28\n",
            "30\n",
            "32\n",
            "34\n",
            "36\n",
            "38\n",
            "40\n",
            "42\n",
            "44\n",
            "46\n",
            "48\n",
            "50\n"
          ]
        }
      ]
    },
    {
      "cell_type": "code",
      "source": [
        "soma = sum(range(101))\n",
        "print(soma)"
      ],
      "metadata": {
        "colab": {
          "base_uri": "https://localhost:8080/"
        },
        "id": "WhEmhEdw3eWW",
        "outputId": "dca32cf5-ed1a-4eeb-c93d-2e2e77755f3b"
      },
      "execution_count": 50,
      "outputs": [
        {
          "output_type": "stream",
          "name": "stdout",
          "text": [
            "5050\n"
          ]
        }
      ]
    },
    {
      "cell_type": "code",
      "source": [
        "#criar um progama que lista os numeros de 1 a 10 \n",
        "##precisamos de um contador!\n",
        "cont = 0\n",
        "\n",
        "while (cont < 10 ):\n",
        "  print(cont +1)\n",
        "  cont+=1"
      ],
      "metadata": {
        "colab": {
          "base_uri": "https://localhost:8080/"
        },
        "id": "29rv_QxB4CKO",
        "outputId": "5912648c-9b88-4e3c-8400-390dd6fab6b0"
      },
      "execution_count": 51,
      "outputs": [
        {
          "output_type": "stream",
          "name": "stdout",
          "text": [
            "1\n",
            "2\n",
            "3\n",
            "4\n",
            "5\n",
            "6\n",
            "7\n",
            "8\n",
            "9\n",
            "10\n"
          ]
        }
      ]
    },
    {
      "cell_type": "code",
      "source": [
        "#pede ao usuario para inserir um numero interio maior que 1\n",
        "#o programa deve imprimir todos os numeros ate o numero digitado.\n",
        "\n",
        "cont = 0 \n",
        "numero = int(input('digite um numero: '))\n",
        "\n",
        "while (cont <= numero):\n",
        "  print(cont)\n",
        "  cont+=1\n"
      ],
      "metadata": {
        "id": "LkI-RK_4-0hK"
      },
      "execution_count": null,
      "outputs": []
    },
    {
      "cell_type": "code",
      "source": [
        "#criar uma lista de compras, quando digitar 0 encerra a lista\n",
        "\n",
        "lista_de_compras = []\n",
        "\n",
        "item = input('digite o item: ')\n",
        "\n",
        "while (item != '0'):\n",
        " lista_de_compras.append(item)\n",
        " item = input('digite o item: ')\n",
        " \n"
      ],
      "metadata": {
        "colab": {
          "base_uri": "https://localhost:8080/"
        },
        "id": "0BVhMZoMDcgQ",
        "outputId": "a050056a-cde5-4a12-fc94-f46c48cc7ead"
      },
      "execution_count": 58,
      "outputs": [
        {
          "name": "stdout",
          "output_type": "stream",
          "text": [
            "digite o item: macarrão\n",
            "digite o item: arroz\n",
            "digite o item: feijao\n",
            "digite o item: carne\n",
            "digite o item: queijo\n",
            "digite o item: presunto\n",
            "digite o item: frango\n",
            "digite o item: galinha\n",
            "digite o item: sal\n",
            "digite o item: coloral\n",
            "digite o item: cominho\n",
            "digite o item: acurca\n",
            "digite o item: açucar\n",
            "digite o item: pimenta do reino\n",
            "digite o item: treloso\n",
            "digite o item: miojo\n",
            "digite o item: tang de morango\n",
            "digite o item: tang de uva\n",
            "digite o item: 0\n"
          ]
        }
      ]
    }
  ]
}