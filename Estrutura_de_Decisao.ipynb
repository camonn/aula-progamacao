{
  "nbformat": 4,
  "nbformat_minor": 0,
  "metadata": {
    "colab": {
      "provenance": [],
      "authorship_tag": "ABX9TyOv7XzVByQ96AzCt73j07yt",
      "include_colab_link": true
    },
    "kernelspec": {
      "name": "python3",
      "display_name": "Python 3"
    },
    "language_info": {
      "name": "python"
    }
  },
  "cells": [
    {
      "cell_type": "markdown",
      "metadata": {
        "id": "view-in-github",
        "colab_type": "text"
      },
      "source": [
        "<a href=\"https://colab.research.google.com/github/CamonnRitse/aula-progamacao/blob/main/Estrutura_de_Decisao.ipynb\" target=\"_parent\"><img src=\"https://colab.research.google.com/assets/colab-badge.svg\" alt=\"Open In Colab\"/></a>"
      ]
    },
    {
      "cell_type": "code",
      "execution_count": null,
      "metadata": {
        "id": "VRGNjnoPkyTS",
        "colab": {
          "base_uri": "https://localhost:8080/"
        },
        "outputId": "933c16ef-9ba7-40ae-aa7d-93c8cad6f0b7"
      },
      "outputs": [
        {
          "output_type": "stream",
          "name": "stdout",
          "text": [
            "132\n",
            "48\n",
            "3780\n",
            "2.142857142857143\n",
            "6\n"
          ]
        }
      ],
      "source": [
        "a = 90 \n",
        "b = 42\n",
        "\n",
        "print(a+b)\n",
        "print(a-b)\n",
        "print(a*b)\n",
        "print(a/b)\n",
        "print(a%b)\n"
      ]
    },
    {
      "cell_type": "code",
      "source": [
        "idade = 22 \n",
        "print('meu nome é camonn, minhas idade é: ,idade')"
      ],
      "metadata": {
        "colab": {
          "base_uri": "https://localhost:8080/"
        },
        "id": "WGp1V6uwlUVl",
        "outputId": "a7e4b8d5-36d2-49d0-a80f-245e1ab4c44b"
      },
      "execution_count": null,
      "outputs": [
        {
          "output_type": "stream",
          "name": "stdout",
          "text": [
            "meu nome é camonn, minhas idade é: ,idade\n"
          ]
        }
      ]
    },
    {
      "cell_type": "code",
      "source": [
        "nome = input('digite seu nome: ')\n",
        "print('olá, '+nome)"
      ],
      "metadata": {
        "colab": {
          "base_uri": "https://localhost:8080/"
        },
        "id": "X6RautOBnC-y",
        "outputId": "1b0becf1-f971-425b-8a78-7052e0f359eb"
      },
      "execution_count": null,
      "outputs": [
        {
          "output_type": "stream",
          "name": "stdout",
          "text": [
            "digite seu nome: camonn\n",
            "olá, camonn\n"
          ]
        }
      ]
    },
    {
      "cell_type": "code",
      "source": [
        "#codigo para dizer a idade da pessoa\n",
        "anoNascim = input('digite o ano de nascimento!')\n",
        "print('sua idade é: ',2023-int(anoNascim))\n"
      ],
      "metadata": {
        "id": "cnGNN3Bhnxlv",
        "colab": {
          "base_uri": "https://localhost:8080/"
        },
        "outputId": "c198c3ad-7530-4a53-c684-7d5ee21b2106"
      },
      "execution_count": 1,
      "outputs": [
        {
          "output_type": "stream",
          "name": "stdout",
          "text": [
            "digite o ano de nascimento!2000\n",
            "sua idade é:  23\n"
          ]
        }
      ]
    },
    {
      "cell_type": "code",
      "source": [
        "#Solicita a altura e o peso de alguem, e retorna o IMC\n",
        "#IMC = peso / altura**2\n",
        "\n",
        "peso = float(input('digite o peso! '))\n",
        "altura = float(input('digite a altura!'))\n",
        "imc = peso/altura**2\n",
        "print('O IMC é:', imc)\n"
      ],
      "metadata": {
        "colab": {
          "base_uri": "https://localhost:8080/"
        },
        "id": "jj_GKv1movVW",
        "outputId": "c7df6203-4ba8-4ae6-f39c-c69dd3c478fd"
      },
      "execution_count": null,
      "outputs": [
        {
          "output_type": "stream",
          "name": "stdout",
          "text": [
            "digite o peso! 86\n",
            "digite a altura!1.87\n",
            "O IMC é: 24.59321112985787\n"
          ]
        }
      ]
    },
    {
      "cell_type": "code",
      "source": [
        "#Verificar se um numero é par\n",
        "num = int(input('digite um numero'))\n",
        "if(num%2 == 0):\n",
        "  print('O numero é par')\n",
        "else:\n",
        "  print('O numero é impar')\n",
        "  "
      ],
      "metadata": {
        "colab": {
          "base_uri": "https://localhost:8080/"
        },
        "id": "C0iS1WSMuQi2",
        "outputId": "9fe55464-9fe7-442d-9d9d-bbda314b03e0"
      },
      "execution_count": null,
      "outputs": [
        {
          "output_type": "stream",
          "name": "stdout",
          "text": [
            "digite um numero101\n",
            "O numero é impar\n"
          ]
        }
      ]
    },
    {
      "cell_type": "code",
      "source": [
        "#Em um campeonato de MMA, tem tres categorias por peso\n",
        "#galo até 60kg\n",
        "#medio até 80kg\n",
        "#meio pesado até 90 kg\n",
        "#pesado mais de 90\n",
        "peso = float(input('digite o peso do atleta'))\n",
        "if(peso <= 70):\n",
        "  print('galo')\n",
        "elif(peso <=80):\n",
        "  print('medio')\n",
        "elif(peso <=90):\n",
        "  print('meio pesado')\n",
        "else:\n",
        "  print('pesado')\n"
      ],
      "metadata": {
        "colab": {
          "base_uri": "https://localhost:8080/"
        },
        "id": "_OI-iOC6yUF7",
        "outputId": "8e07a925-5a5f-4820-ffe3-d60f57c3abac"
      },
      "execution_count": null,
      "outputs": [
        {
          "output_type": "stream",
          "name": "stdout",
          "text": [
            "digite o peso do atleta 100\n",
            "pesado\n"
          ]
        }
      ]
    },
    {
      "cell_type": "code",
      "source": [
        "#verificações logicas\n",
        "a = 45\n",
        "b = 33\n",
        "print(a > b)\n",
        "print(a < b)\n",
        "print(a == b)\n",
        "print(a != b)"
      ],
      "metadata": {
        "colab": {
          "base_uri": "https://localhost:8080/"
        },
        "id": "KusdC48luzAV",
        "outputId": "a6fd32c9-9a5c-43f1-93b5-5cfcb792e874"
      },
      "execution_count": null,
      "outputs": [
        {
          "output_type": "stream",
          "name": "stdout",
          "text": [
            "True\n",
            "False\n",
            "False\n",
            "True\n"
          ]
        }
      ]
    },
    {
      "cell_type": "code",
      "source": [
        "#verificador de IMC\n",
        "peso = float(input('digite seu peso'))\n",
        "altura = float(input('digite sua altura'))\n",
        "imc = peso/altura**2\n",
        "\n",
        "if(imc <18.5):\n",
        "  print('abaixo do peso normal')\n",
        "elif(imc <24.9):\n",
        "  print('peso normal')\n",
        "elif(imc <29.9): \n",
        "  print('excesso de peso')\n",
        "elif(imc <34.9):\n",
        "  print('obesidade classe |')\n",
        "elif(imc <39.9):\n",
        "  print('obesidade classe ||')\n",
        "else:\n",
        " print('obesidade classe |||')\n",
        " \n"
      ],
      "metadata": {
        "colab": {
          "base_uri": "https://localhost:8080/"
        },
        "id": "tejKZiE91IrE",
        "outputId": "580e4cee-70c6-4b46-b136-8ce34165301e"
      },
      "execution_count": null,
      "outputs": [
        {
          "output_type": "stream",
          "name": "stdout",
          "text": [
            "digite seu peso 86\n",
            "digite sua altura1.85\n",
            "excesso de peso\n"
          ]
        }
      ]
    },
    {
      "cell_type": "code",
      "source": [
        "nome = input('digite seu nome: ')\n",
        " print('olá, '+nome)\n",
        "anoNascim = input('digite seu ano de nascimento')\n",
        " print('sua idade é: '), 2023-int(anoNascim))"
      ],
      "metadata": {
        "colab": {
          "base_uri": "https://localhost:8080/",
          "height": 130
        },
        "id": "g4BMZnpeqJXJ",
        "outputId": "c078b0a1-7a41-495c-8431-1ca0c3b1b7a6"
      },
      "execution_count": null,
      "outputs": [
        {
          "output_type": "error",
          "ename": "IndentationError",
          "evalue": "ignored",
          "traceback": [
            "\u001b[0;36m  File \u001b[0;32m\"<ipython-input-4-e2948b8774f5>\"\u001b[0;36m, line \u001b[0;32m2\u001b[0m\n\u001b[0;31m    print('olá,'+nome)\u001b[0m\n\u001b[0m    ^\u001b[0m\n\u001b[0;31mIndentationError\u001b[0m\u001b[0;31m:\u001b[0m unexpected indent\n"
          ]
        }
      ]
    },
    {
      "cell_type": "code",
      "source": [
        "#tipos booleanos\n",
        "print(100 == (50+50))\n",
        "print(100 >= (50+50))\n",
        "print"
      ],
      "metadata": {
        "id": "4qf8I7RipGFn"
      },
      "execution_count": null,
      "outputs": []
    },
    {
      "cell_type": "code",
      "source": [
        "#Se for do sexo feminino \"F\", e tiver 55 anos ou mais, pode se aposentar\n",
        "#se for do sexo masculino \"M\", só se aposenta com 60 ou mais.\n",
        "\n",
        "sexo = 'M' and 'F'\n",
        "\n",
        "sexo =  float(input('digite seu genero'))\n",
        "idade = float(input('digite sua idade'))\n",
        "if(sexo == 'F' and idade >=55):\n",
        " print('pode se aposentar')\n",
        "elif(sexo == 'M' and idade >=60):\n",
        "  print('pode se aposentar')\n",
        "else:\n",
        "  print('ainda não pode se aposentar')"
      ],
      "metadata": {
        "id": "RstXtjdLqiop",
        "colab": {
          "base_uri": "https://localhost:8080/",
          "height": 252
        },
        "outputId": "91619ed7-5613-468a-fb25-cef1d5fc7ff1"
      },
      "execution_count": 10,
      "outputs": [
        {
          "name": "stdout",
          "output_type": "stream",
          "text": [
            "digite seu generoM\n"
          ]
        },
        {
          "output_type": "error",
          "ename": "ValueError",
          "evalue": "ignored",
          "traceback": [
            "\u001b[0;31m---------------------------------------------------------------------------\u001b[0m",
            "\u001b[0;31mValueError\u001b[0m                                Traceback (most recent call last)",
            "\u001b[0;32m<ipython-input-10-d536f7b766ec>\u001b[0m in \u001b[0;36m<cell line: 6>\u001b[0;34m()\u001b[0m\n\u001b[1;32m      4\u001b[0m \u001b[0msexo\u001b[0m \u001b[0;34m=\u001b[0m \u001b[0;34m'M'\u001b[0m \u001b[0;32mand\u001b[0m \u001b[0;34m'F'\u001b[0m\u001b[0;34m\u001b[0m\u001b[0;34m\u001b[0m\u001b[0m\n\u001b[1;32m      5\u001b[0m \u001b[0;34m\u001b[0m\u001b[0m\n\u001b[0;32m----> 6\u001b[0;31m \u001b[0msexo\u001b[0m \u001b[0;34m=\u001b[0m  \u001b[0mfloat\u001b[0m\u001b[0;34m(\u001b[0m\u001b[0minput\u001b[0m\u001b[0;34m(\u001b[0m\u001b[0;34m'digite seu genero'\u001b[0m\u001b[0;34m)\u001b[0m\u001b[0;34m)\u001b[0m\u001b[0;34m\u001b[0m\u001b[0;34m\u001b[0m\u001b[0m\n\u001b[0m\u001b[1;32m      7\u001b[0m \u001b[0midade\u001b[0m \u001b[0;34m=\u001b[0m \u001b[0mfloat\u001b[0m\u001b[0;34m(\u001b[0m\u001b[0minput\u001b[0m\u001b[0;34m(\u001b[0m\u001b[0;34m'digite sua idade'\u001b[0m\u001b[0;34m)\u001b[0m\u001b[0;34m)\u001b[0m\u001b[0;34m\u001b[0m\u001b[0;34m\u001b[0m\u001b[0m\n\u001b[1;32m      8\u001b[0m \u001b[0;32mif\u001b[0m\u001b[0;34m(\u001b[0m\u001b[0msexo\u001b[0m \u001b[0;34m==\u001b[0m \u001b[0;34m'F'\u001b[0m \u001b[0;32mand\u001b[0m \u001b[0midade\u001b[0m \u001b[0;34m>=\u001b[0m\u001b[0;36m55\u001b[0m\u001b[0;34m)\u001b[0m\u001b[0;34m:\u001b[0m\u001b[0;34m\u001b[0m\u001b[0;34m\u001b[0m\u001b[0m\n",
            "\u001b[0;31mValueError\u001b[0m: could not convert string to float: 'M'"
          ]
        }
      ]
    },
    {
      "cell_type": "code",
      "source": [
        "#Se for do sexo feminino \"F\", e tiver 55 anos ou mais, pode se aposentar\n",
        "#se for do sexo masculino \"M\", só se aposenta com 60 ou mais.\n",
        "\n",
        "#Versao ||\n",
        "sexo = 'M'\n",
        "idade = 68\n",
        "if((sexo == 'F' and idade >=55) or (sexo == 'M' and idade >=60)):\n",
        " print('pode se aposentar')\n",
        "else:\n",
        "  print('ainda não pode se aposentar')"
      ],
      "metadata": {
        "colab": {
          "base_uri": "https://localhost:8080/"
        },
        "id": "f1u0TTK0tAgE",
        "outputId": "d60ac2de-e502-45a1-b007-d2f1e120a815"
      },
      "execution_count": 6,
      "outputs": [
        {
          "output_type": "stream",
          "name": "stdout",
          "text": [
            "pode se aposentar\n"
          ]
        }
      ]
    },
    {
      "cell_type": "code",
      "source": [
        "#Versão |||\n",
        "sexo = input('insira o sexo, m (masculino) ou f (feminino): ')\n",
        "idade = int(input('insira a idade: '))\n",
        "if((sexo == 'f' and idade >=55) or (sexo == 'm' and idade >=60)):\n",
        "  print('pode se aposentar')\n",
        "else:\n",
        "  print('ainda não pode')"
      ],
      "metadata": {
        "colab": {
          "base_uri": "https://localhost:8080/"
        },
        "id": "Vu-y2Gnou_3d",
        "outputId": "34c3eb3d-3a89-4476-8fdb-1693900994ee"
      },
      "execution_count": 14,
      "outputs": [
        {
          "output_type": "stream",
          "name": "stdout",
          "text": [
            "insira o sexo, m (masculino) ou f (feminino): f\n",
            "insira a idade: 55\n",
            "pode se aposentar\n"
          ]
        }
      ]
    },
    {
      "cell_type": "code",
      "source": [
        "#solicite tres numeros A, B e C.\n",
        "#imprima na tela se A+B é menor que C\n",
        "\n",
        "a = int(input('Digite o primeiro num: '))\n",
        "b = int(input('Digite o primeiro num: '))\n",
        "c = int(input('Digite o primeiro num: '))\n",
        "\n",
        "if(a+b < c):\n",
        "  print('é menor')\n",
        "else:\n",
        "  print('nao é maior')"
      ],
      "metadata": {
        "colab": {
          "base_uri": "https://localhost:8080/"
        },
        "id": "DFrefZoYv5cd",
        "outputId": "daf19620-c096-4fbe-93f9-4f6c044af302"
      },
      "execution_count": 15,
      "outputs": [
        {
          "output_type": "stream",
          "name": "stdout",
          "text": [
            "Digite o primeiro num: 5\n",
            "Digite o primeiro num: 2\n",
            "Digite o primeiro num: 3\n",
            "nao é maior\n"
          ]
        }
      ]
    },
    {
      "cell_type": "code",
      "source": [
        "#Escreva um algoritimo que recebe 2 valores interio\n",
        "#e escreva na tela qual é o maior.\n",
        "\n",
        "A = int(input('Digite o primeiro num: '))\n",
        "B = int(input('Digite o primeiro num: '))\n",
        "\n",
        "if(A > B):\n",
        "  print('Primeiro numero é maior')\n",
        "elif(A < B):\n",
        " print('segundo numero é maior')\n",
        "else:\n",
        "  print('os numeros sao iguais')\n"
      ],
      "metadata": {
        "colab": {
          "base_uri": "https://localhost:8080/"
        },
        "id": "nvcTfuVfyYia",
        "outputId": "bf53c361-ebbe-4c42-8140-838279616aa6"
      },
      "execution_count": 25,
      "outputs": [
        {
          "output_type": "stream",
          "name": "stdout",
          "text": [
            "Digite o primeiro num: 10\n",
            "Digite o primeiro num: 10\n",
            "os numeros sao iguais\n"
          ]
        }
      ]
    }
  ]
}